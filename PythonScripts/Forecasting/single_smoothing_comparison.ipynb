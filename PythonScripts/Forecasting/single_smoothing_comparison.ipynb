{
 "cells": [
  {
   "cell_type": "code",
   "execution_count": 14,
   "metadata": {
    "collapsed": true
   },
   "outputs": [],
   "source": [
    "import sqlite3\n",
    "import numpy as np\n",
    "import pandas as pd\n",
    "import matplotlib.pyplot as plt\n"
   ]
  },
  {
   "cell_type": "code",
   "execution_count": 15,
   "metadata": {
    "collapsed": true
   },
   "outputs": [],
   "source": [
    "conn = sqlite3.connect('sample_db.sqlite3')\n",
    "c = conn.cursor()"
   ]
  },
  {
   "cell_type": "code",
   "execution_count": 16,
   "metadata": {
    "collapsed": true
   },
   "outputs": [],
   "source": [
    "def exp_smoothing(series, alpha):\n",
    "    return sum([alpha * (1 - alpha) ** i * x for i, x in enumerate(reversed(series))])"
   ]
  },
  {
   "cell_type": "code",
   "execution_count": 17,
   "metadata": {
    "collapsed": true
   },
   "outputs": [],
   "source": [
    "pd.set_option('display.max_rows', 1000)\n",
    "pd.set_option('display.float_format', lambda x: '%.3f' % x)"
   ]
  },
  {
   "cell_type": "code",
   "execution_count": 18,
   "metadata": {
    "collapsed": true
   },
   "outputs": [],
   "source": [
    "revenue_list = []\n",
    "revenues = c.execute(\"select rev from actual where seg_id=1 order by date LIMIT 12\")"
   ]
  },
  {
   "cell_type": "code",
   "execution_count": 19,
   "metadata": {
    "collapsed": true
   },
   "outputs": [],
   "source": [
    "for revenue in revenues:\n",
    "    revenue_list.append(revenue[0])"
   ]
  },
  {
   "cell_type": "code",
   "execution_count": 20,
   "metadata": {},
   "outputs": [
    {
     "name": "stdout",
     "output_type": "stream",
     "text": [
      "[6806425.71, 3318648.0, 6252736.0, 9023272.0, 3592011.4028, 2682894.0, 6404799.0, 5367100.0, 3335506.0, 2746567.1, 4396821.0, 2883258.0]\n"
     ]
    }
   ],
   "source": [
    "print(revenue_list)"
   ]
  },
  {
   "cell_type": "code",
   "execution_count": 21,
   "metadata": {
    "collapsed": true
   },
   "outputs": [],
   "source": [
    "alpha_values = []\n",
    "predicted_values = []\n",
    "percent_error = []"
   ]
  },
  {
   "cell_type": "code",
   "execution_count": 22,
   "metadata": {
    "collapsed": true
   },
   "outputs": [],
   "source": [
    "actual = 9032984.78"
   ]
  },
  {
   "cell_type": "code",
   "execution_count": 23,
   "metadata": {},
   "outputs": [],
   "source": [
    "for x in range(1,101):\n",
    "    alpha_values.append(x/100)\n",
    "for revenue in alpha_values:\n",
    "    predicted_values.append((exp_smoothing(revenue_list, revenue)))\n",
    "for prediction in predicted_values:\n",
    "    percent_error.append( 1 - ((prediction/actual)))"
   ]
  },
  {
   "cell_type": "code",
   "execution_count": 24,
   "metadata": {},
   "outputs": [
    {
     "name": "stdout",
     "output_type": "stream",
     "text": [
      "    Alpha  Percent Error  Prediction\n",
      "0   0.010          0.941  534183.927\n",
      "1   0.020          0.889 1005113.493\n",
      "2   0.030          0.843 1419195.878\n",
      "3   0.040          0.803 1782263.024\n",
      "4   0.050          0.768 2099617.506\n",
      "5   0.060          0.737 2376075.175\n",
      "6   0.070          0.710 2616004.779\n",
      "7   0.080          0.687 2823364.755\n",
      "8   0.090          0.668 3001737.344\n",
      "9   0.100          0.651 3154360.226\n",
      "10  0.110          0.636 3284155.809\n",
      "11  0.120          0.624 3393758.331\n",
      "12  0.130          0.614 3485538.916\n",
      "13  0.140          0.606 3561628.721\n",
      "14  0.150          0.599 3623940.295\n",
      "15  0.160          0.593 3674187.261\n",
      "16  0.170          0.589 3713902.463\n",
      "17  0.180          0.585 3744454.642\n",
      "18  0.190          0.583 3767063.782\n",
      "19  0.200          0.581 3782815.190\n",
      "20  0.210          0.580 3792672.414\n",
      "21  0.220          0.580 3797489.075\n",
      "22  0.230          0.580 3798019.702\n",
      "23  0.240          0.580 3794929.629\n",
      "24  0.250          0.581 3788804.029\n",
      "25  0.260          0.582 3780156.158\n",
      "26  0.270          0.583 3769434.855\n",
      "27  0.280          0.584 3757031.367\n",
      "28  0.290          0.586 3743285.539\n",
      "29  0.300          0.587 3728491.437\n",
      "30  0.310          0.589 3712902.432\n",
      "31  0.320          0.591 3696735.796\n",
      "32  0.330          0.593 3680176.853\n",
      "33  0.340          0.594 3663382.717\n",
      "34  0.350          0.596 3646485.655\n",
      "35  0.360          0.598 3629596.103\n",
      "36  0.370          0.600 3612805.374\n",
      "37  0.380          0.602 3596188.074\n",
      "38  0.390          0.604 3579804.260\n",
      "39  0.400          0.605 3563701.366\n",
      "40  0.410          0.607 3547915.905\n",
      "41  0.420          0.609 3532474.984\n",
      "42  0.430          0.611 3517397.641\n",
      "43  0.440          0.612 3502696.024\n",
      "44  0.450          0.614 3488376.428\n",
      "45  0.460          0.615 3474440.201\n",
      "46  0.470          0.617 3460884.537\n",
      "47  0.480          0.618 3447703.169\n",
      "48  0.490          0.620 3434886.966\n",
      "49  0.500          0.621 3422424.450\n",
      "50  0.510          0.622 3410302.241\n",
      "51  0.520          0.624 3398505.438\n",
      "52  0.530          0.625 3387017.945\n",
      "53  0.540          0.626 3375822.744\n",
      "54  0.550          0.627 3364902.127\n",
      "55  0.560          0.629 3354237.893\n",
      "56  0.570          0.630 3343811.504\n",
      "57  0.580          0.631 3333604.224\n",
      "58  0.590          0.632 3323597.224\n",
      "59  0.600          0.633 3313771.670\n",
      "60  0.610          0.634 3304108.798\n",
      "61  0.620          0.635 3294589.965\n",
      "62  0.630          0.636 3285196.698\n",
      "63  0.640          0.637 3275910.723\n",
      "64  0.650          0.638 3266713.996\n",
      "65  0.660          0.639 3257588.718\n",
      "66  0.670          0.640 3248517.354\n",
      "67  0.680          0.641 3239482.641\n",
      "68  0.690          0.642 3230467.595\n",
      "69  0.700          0.643 3221455.523\n",
      "70  0.710          0.644 3212430.019\n",
      "71  0.720          0.645 3203374.978\n",
      "72  0.730          0.646 3194274.592\n",
      "73  0.740          0.647 3185113.361\n",
      "74  0.750          0.648 3175876.097\n",
      "75  0.760          0.649 3166547.925\n",
      "76  0.770          0.650 3157114.299\n",
      "77  0.780          0.652 3147561.000\n",
      "78  0.790          0.653 3137874.153\n",
      "79  0.800          0.654 3128040.233\n",
      "80  0.810          0.655 3118046.076\n",
      "81  0.820          0.656 3107878.893\n",
      "82  0.830          0.657 3097526.277\n",
      "83  0.840          0.658 3086976.221\n",
      "84  0.850          0.659 3076217.130\n",
      "85  0.860          0.661 3065237.830\n",
      "86  0.870          0.662 3054027.586\n",
      "87  0.880          0.663 3042576.113\n",
      "88  0.890          0.664 3030873.586\n",
      "89  0.900          0.666 3018910.657\n",
      "90  0.910          0.667 3006678.458\n",
      "91  0.920          0.669 2994168.618\n",
      "92  0.930          0.670 2981373.267\n",
      "93  0.940          0.671 2968285.043\n",
      "94  0.950          0.673 2954897.097\n",
      "95  0.960          0.674 2941203.098\n",
      "96  0.970          0.676 2927197.231\n",
      "97  0.980          0.678 2912874.198\n",
      "98  0.990          0.679 2898229.214\n",
      "99  1.000          0.681 2883258.000\n"
     ]
    }
   ],
   "source": [
    "demo_frame = pd.DataFrame({'Alpha':alpha_values,'Prediction':predicted_values,'Percent Error':percent_error})\n",
    "print(demo_frame)"
   ]
  },
  {
   "cell_type": "code",
   "execution_count": null,
   "metadata": {
    "collapsed": true
   },
   "outputs": [],
   "source": []
  }
 ],
 "metadata": {
  "kernelspec": {
   "display_name": "Python 3",
   "language": "python",
   "name": "python3"
  },
  "language_info": {
   "codemirror_mode": {
    "name": "ipython",
    "version": 3
   },
   "file_extension": ".py",
   "mimetype": "text/x-python",
   "name": "python",
   "nbconvert_exporter": "python",
   "pygments_lexer": "ipython3",
   "version": "3.6.2"
  }
 },
 "nbformat": 4,
 "nbformat_minor": 1
}
